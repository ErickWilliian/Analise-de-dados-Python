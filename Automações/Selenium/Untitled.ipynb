{
 "cells": [
  {
   "cell_type": "code",
   "execution_count": 5,
   "id": "5d099196-ab5f-4211-957e-383c2cdb1be4",
   "metadata": {},
   "outputs": [],
   "source": [
    "from selenium import webdriver\n",
    "from webdriver_manager.chrome import ChromeDriverManager\n",
    "from selenium.webdriver.chrome.service import Service\n",
    "\n",
    "servico = Service(ChromeDriverManager().install())\n",
    "\n",
    "navegador = webdriver.Chrome(service=servico)"
   ]
  },
  {
   "cell_type": "code",
   "execution_count": 6,
   "id": "4f9e56e9-44e8-4ddf-b83e-de2dfd914234",
   "metadata": {},
   "outputs": [],
   "source": [
    "navegador .get(\"https://pages.hashtagtreinamentos.com/inscricao-minicurso-python-automacao-org?origemurl=hashtag_yt_org_minipython_8AMNaVt0z_M\")"
   ]
  },
  {
   "cell_type": "code",
   "execution_count": 7,
   "id": "b79fb7c6-672a-450e-adf9-e490c648d0b0",
   "metadata": {},
   "outputs": [],
   "source": [
    "navegador.find_element(\"xpath\",'//*[@id=\"section-10356508\"]/section/div[2]/div/div[2]/form/div[1]/div/div[1]/div/input').send_keys(\"Erick\")"
   ]
  },
  {
   "cell_type": "code",
   "execution_count": null,
   "id": "4162e255-e721-45dd-bdfc-9f2e7427d9de",
   "metadata": {},
   "outputs": [],
   "source": []
  }
 ],
 "metadata": {
  "kernelspec": {
   "display_name": "Python 3 (ipykernel)",
   "language": "python",
   "name": "python3"
  },
  "language_info": {
   "codemirror_mode": {
    "name": "ipython",
    "version": 3
   },
   "file_extension": ".py",
   "mimetype": "text/x-python",
   "name": "python",
   "nbconvert_exporter": "python",
   "pygments_lexer": "ipython3",
   "version": "3.12.2"
  }
 },
 "nbformat": 4,
 "nbformat_minor": 5
}
